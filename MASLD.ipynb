{
 "cells": [
  {
   "cell_type": "code",
   "execution_count": 1,
   "id": "7e8f35c0-9896-42e1-967c-0a0651efa801",
   "metadata": {},
   "outputs": [
    {
     "name": "stdout",
     "output_type": "stream",
     "text": [
      "当前工作路径: C:\\Users\\15068\\Python\\在线网络计算器\\UKBBMASLD\n"
     ]
    }
   ],
   "source": [
    "# 设置工作路径\n",
    "import os\n",
    "os.chdir(\"C:\\\\Users\\\\15068\\\\Python\\\\在线网络计算器\\\\UKBBMASLD\")\n",
    "\n",
    "# 获取并打印当前工作路径\n",
    "current_path = os.getcwd()\n",
    "print(\"当前工作路径:\", current_path)"
   ]
  },
  {
   "cell_type": "code",
   "execution_count": 2,
   "id": "917aada5-8bff-429b-816e-5465823e8262",
   "metadata": {},
   "outputs": [
    {
     "data": {
      "text/html": [
       "<div>\n",
       "<style scoped>\n",
       "    .dataframe tbody tr th:only-of-type {\n",
       "        vertical-align: middle;\n",
       "    }\n",
       "\n",
       "    .dataframe tbody tr th {\n",
       "        vertical-align: top;\n",
       "    }\n",
       "\n",
       "    .dataframe thead th {\n",
       "        text-align: right;\n",
       "    }\n",
       "</style>\n",
       "<table border=\"1\" class=\"dataframe\">\n",
       "  <thead>\n",
       "    <tr style=\"text-align: right;\">\n",
       "      <th></th>\n",
       "      <th>Age</th>\n",
       "      <th>Sex</th>\n",
       "      <th>Strength</th>\n",
       "      <th>Sleep</th>\n",
       "      <th>Light</th>\n",
       "      <th>Moderate</th>\n",
       "      <th>group</th>\n",
       "    </tr>\n",
       "  </thead>\n",
       "  <tbody>\n",
       "    <tr>\n",
       "      <th>0</th>\n",
       "      <td>50</td>\n",
       "      <td>0</td>\n",
       "      <td>20</td>\n",
       "      <td>0.45057</td>\n",
       "      <td>0.15659</td>\n",
       "      <td>0.01078</td>\n",
       "      <td>0</td>\n",
       "    </tr>\n",
       "    <tr>\n",
       "      <th>1</th>\n",
       "      <td>43</td>\n",
       "      <td>1</td>\n",
       "      <td>46</td>\n",
       "      <td>0.34697</td>\n",
       "      <td>0.30435</td>\n",
       "      <td>0.02856</td>\n",
       "      <td>0</td>\n",
       "    </tr>\n",
       "    <tr>\n",
       "      <th>2</th>\n",
       "      <td>45</td>\n",
       "      <td>0</td>\n",
       "      <td>28</td>\n",
       "      <td>0.29867</td>\n",
       "      <td>0.20429</td>\n",
       "      <td>0.03220</td>\n",
       "      <td>0</td>\n",
       "    </tr>\n",
       "    <tr>\n",
       "      <th>3</th>\n",
       "      <td>56</td>\n",
       "      <td>1</td>\n",
       "      <td>50</td>\n",
       "      <td>0.36825</td>\n",
       "      <td>0.25433</td>\n",
       "      <td>0.02302</td>\n",
       "      <td>0</td>\n",
       "    </tr>\n",
       "    <tr>\n",
       "      <th>4</th>\n",
       "      <td>65</td>\n",
       "      <td>0</td>\n",
       "      <td>22</td>\n",
       "      <td>0.36124</td>\n",
       "      <td>0.23103</td>\n",
       "      <td>0.01621</td>\n",
       "      <td>0</td>\n",
       "    </tr>\n",
       "  </tbody>\n",
       "</table>\n",
       "</div>"
      ],
      "text/plain": [
       "   Age  Sex  Strength    Sleep    Light  Moderate  group\n",
       "0   50    0        20  0.45057  0.15659   0.01078      0\n",
       "1   43    1        46  0.34697  0.30435   0.02856      0\n",
       "2   45    0        28  0.29867  0.20429   0.03220      0\n",
       "3   56    1        50  0.36825  0.25433   0.02302      0\n",
       "4   65    0        22  0.36124  0.23103   0.01621      0"
      ]
     },
     "execution_count": 2,
     "metadata": {},
     "output_type": "execute_result"
    }
   ],
   "source": [
    "import pandas as pd\n",
    "import numpy as np\n",
    "import matplotlib.pyplot as plt\n",
    "from sklearn.model_selection import train_test_split\n",
    "df = pd.read_csv('MASLD_UKBB.csv')\n",
    "# 划分特征和目标变量\n",
    "X = df.drop(['group'], axis=1)\n",
    "y = df['group']\n",
    "# 划分训练集和测试集\n",
    "X_train, X_test, y_train, y_test = train_test_split(X, y, test_size=0.3,                                                     \n",
    "                                                    random_state=42, stratify=df['group'])\n",
    "df.head()"
   ]
  },
  {
   "cell_type": "code",
   "execution_count": 3,
   "id": "764086b7-8069-4aaa-8ee5-97afa7a131de",
   "metadata": {},
   "outputs": [
    {
     "name": "stdout",
     "output_type": "stream",
     "text": [
      "Fitting 5 folds for each of 100 candidates, totalling 500 fits\n",
      "Best parameters found:  {'learning_rate': 0.02, 'max_depth': 3, 'n_estimators': 500}\n",
      "Best Log Loss score:  0.6279602666008329\n"
     ]
    }
   ],
   "source": [
    "import xgboost as xgb\n",
    "from sklearn.model_selection import GridSearchCV\n",
    "\n",
    "# XGBoost模型参数\n",
    "params_xgb = {    \n",
    "    'learning_rate': 0.02,            # 学习率，控制每一步的步长，用于防止过拟合。典型值范围：0.01 - 0.1    \n",
    "    'booster': 'gbtree',              # 提升方法，这里使用梯度提升树（Gradient Boosting Tree）    \n",
    "    'objective': 'binary:logistic',   # 损失函数，这里使用逻辑回归，用于二分类任务    \n",
    "    'max_leaves': 127,                # 每棵树的叶子节点数量，控制模型复杂度。较大值可以提高模型复杂度但可能导致过拟合    \n",
    "    'verbosity': 1,                   # 控制 XGBoost 输出信息的详细程度，0表示无输出，1表示输出进度信息    \n",
    "    'seed': 42,                       # 随机种子，用于重现模型的结果    \n",
    "    'nthread': -1,                    # 并行运算的线程数量，-1表示使用所有可用的CPU核心    \n",
    "    'colsample_bytree': 0.6,          # 每棵树随机选择的特征比例，用于增加模型的泛化能力    \n",
    "    'subsample': 0.7,                 # 每次迭代时随机选择的样本比例，用于增加模型的泛化能力    \n",
    "    'eval_metric': 'logloss'          # 评价指标，这里使用对数损失（logloss）\n",
    "}\n",
    "\n",
    "# 初始化XGBoost分类模型\n",
    "model_xgb = xgb.XGBClassifier(**params_xgb)\n",
    "\n",
    "# 定义参数网格，用于网格搜索\n",
    "param_grid = {    \n",
    "    'n_estimators': [100, 200, 300, 400, 500],  # 树的数量    \n",
    "    'max_depth': [3, 4, 5, 6, 7],               # 树的深度    \n",
    "    'learning_rate': [0.01, 0.02, 0.05, 0.1],   # 学习率\n",
    "}\n",
    "\n",
    "# 使用GridSearchCV进行网格搜索和k折交叉验证\n",
    "grid_search = GridSearchCV(    \n",
    "    estimator=model_xgb,    \n",
    "    param_grid=param_grid,    \n",
    "    scoring='neg_log_loss',  # 评价指标为负对数损失    \n",
    "    cv=5,                    # 5折交叉验证    \n",
    "    n_jobs=4,               # 并行计算    \n",
    "    verbose=1                # 输出详细进度信息\n",
    ")\n",
    "\n",
    "# 训练模型\n",
    "grid_search.fit(X_train, y_train)\n",
    "\n",
    "# 输出最优参数\n",
    "print(\"Best parameters found: \", grid_search.best_params_)\n",
    "print(\"Best Log Loss score: \", -grid_search.best_score_)\n",
    "\n",
    "# 使用最优参数训练模型\n",
    "best_model = grid_search.best_estimator_"
   ]
  },
  {
   "cell_type": "code",
   "execution_count": 4,
   "id": "6ee907fd-56ce-408c-87f9-27a21bf25acf",
   "metadata": {},
   "outputs": [
    {
     "name": "stdout",
     "output_type": "stream",
     "text": [
      "              precision    recall  f1-score   support\n",
      "\n",
      "           0       0.67      0.69      0.68     11661\n",
      "           1       0.63      0.60      0.61     10080\n",
      "\n",
      "    accuracy                           0.65     21741\n",
      "   macro avg       0.65      0.65      0.65     21741\n",
      "weighted avg       0.65      0.65      0.65     21741\n",
      "\n"
     ]
    }
   ],
   "source": [
    "from sklearn.metrics import classification_report\n",
    "# 预测测试集\n",
    "y_pred = best_model.predict(X_test)\n",
    "# 输出模型报告， 查看评价指标\n",
    "print(classification_report(y_test, y_pred))"
   ]
  },
  {
   "cell_type": "code",
   "execution_count": 5,
   "id": "a9c79323-4298-437e-bb84-c3cafef45b12",
   "metadata": {},
   "outputs": [
    {
     "data": {
      "image/png": "[encoded data removed]",
      "text/plain": [
       "<Figure size 640x480 with 1 Axes>"
      ]
     },
     "metadata": {},
     "output_type": "display_data"
    }
   ],
   "source": [
    "from sklearn.metrics import roc_curve, auc\n",
    "# 预测概率\n",
    "y_score = best_model.predict_proba(X_test)[:, 1]\n",
    "# 计算ROC曲线\n",
    "fpr_logistic, tpr_logistic, _ = roc_curve(y_test, y_score)\n",
    "roc_auc_logistic = auc(fpr_logistic, tpr_logistic)\n",
    "# 绘制ROC曲线\n",
    "plt.figure()\n",
    "plt.plot(fpr_logistic, tpr_logistic, color='darkorange', lw=2, label='ROC curve (area = %0.2f)' % roc_auc_logistic)\n",
    "plt.plot([0, 1], [0, 1], color='navy', lw=2, linestyle='--')\n",
    "plt.xlim([0.0, 1.0])\n",
    "plt.ylim([0.0, 1.05])\n",
    "plt.xlabel('False Positive Rate')\n",
    "plt.ylabel('True Positive Rate')\n",
    "plt.title('Receiver Operating Characteristic')\n",
    "plt.legend(loc=\"lower right\")\n",
    "plt.show()"
   ]
  },
  {
   "cell_type": "code",
   "execution_count": 7,
   "id": "cf0393d4-9fb8-4110-a345-dbe521c5d4c0",
   "metadata": {},
   "outputs": [
    {
     "data": {
      "text/plain": [
       "['XGBoost.pkl']"
      ]
     },
     "execution_count": 7,
     "metadata": {},
     "output_type": "execute_result"
    }
   ],
   "source": [
    "import joblib\n",
    "# 保存模型\n",
    "joblib.dump(best_model , 'XGBoost.pkl')"
   ]
  },
  {
   "cell_type": "code",
   "execution_count": 8,
   "id": "25d74dd2-40f3-42de-adb0-69d934aa7c22",
   "metadata": {},
   "outputs": [
    {
     "name": "stderr",
     "output_type": "stream",
     "text": [
      "2025-07-17 22:29:01.650 \n",
      "  \u001b[33m\u001b[1mWarning:\u001b[0m to view this Streamlit app on a browser, run it with the following\n",
      "  command:\n",
      "\n",
      "    streamlit run C:\\Users\\15068\\anaconda3\\envs\\base_clean\\Lib\\site-packages\\ipykernel_launcher.py [ARGUMENTS]\n"
     ]
    }
   ],
   "source": [
    "import streamlit as st\n",
    "import joblib\n",
    "import numpy as np\n",
    "import pandas as pd\n",
    "import shap\n",
    "import matplotlib.pyplot as plt\n",
    "\n",
    "# Load the model\n",
    "model = joblib.load('XGBoost.pkl')\n",
    "\n",
    "# Define feature names\n",
    "feature_names = [    \n",
    "    \"Age\", \"Sex\", \"Strength\", \"Sleep\", \"Light\", \"Moderate\"]\n",
    "\n",
    "# Streamlit user interface\n",
    "st.title(\"Metabolic dysfunction-associated steatotic liver disease risk prediction calculator\")\n",
    "\n",
    "# age: numerical input\n",
    "Age = st.number_input(\"Age:\", min_value=40, max_value=70, value=60) \n",
    "\n",
    "# Sex: categorical selection\n",
    "Sex = st.selectbox(\"Sex (0=Female, 1=Male):\", options=[0, 1], format_func=lambda x: 'Female (0)' if x == 0 else 'Male (1)')\n",
    "\n",
    "Strength = st.number_input(\"Hand grip strength (Max):\", min_value=0, max_value=90, value=70) \n",
    "\n",
    "Sleep = st.number_input(\"Average sleep duration:\", min_value=0.0, max_value=1.0, value=0.450)\n",
    "\n",
    "Light = st.number_input(\"Average light duration:\", min_value=0.0, max_value=1.0, value=0.250)\n",
    "\n",
    "Moderate = st.number_input(\"Average moderate-vigorous duration:\", min_value=0.0, max_value=1.0, value=0.055)\n",
    "\n",
    "# Process inputs and make predictions\n",
    "feature_values = [Age, Sex, Strength, Sleep, Light, Moderate]\n",
    "features = np.array([feature_values])\n",
    "\n",
    "if st.button(\"Predict\"):    \n",
    "    # Predict class and probabilities    \n",
    "    predicted_class = model.predict(features)[0]    \n",
    "    predicted_proba = model.predict_proba(features)[0]\n",
    "    \n",
    "    # Display prediction results    \n",
    "    st.write(f\"**Predicted Class:** {predicted_class}\")    \n",
    "    st.write(f\"**Prediction Probabilities:** {predicted_proba}\")\n",
    "    \n",
    "    # Generate advice based on prediction results    \n",
    "    probability = predicted_proba[predicted_class] * 100\n",
    "    \n",
    "    if predicted_class == 1:        \n",
    "         advice = (            \n",
    "           f\"Our model indicates that you have a high risk of MASLD. \"\n",
    "           f\"The predicted probability of developing MASLD is {probability:.1f}%. \"\n",
    "           \"While this is an estimate, it suggests that you may be at considerable risk. \"\n",
    "           \"I recommend consulting a hepatologist or a liver specialist as soon as possible for further evaluation, \"\n",
    "           \"to confirm the diagnosis and discuss appropriate management or treatment options.\"       \n",
    "           )\n",
    "    else:        \n",
    "         advice = (            \n",
    "           f\"Our model indicates that you have a low risk of MASLD. \"\n",
    "           f\"The predicted probability of not having MASLD is {probability:.1f}%. \"\n",
    "           \"However, it is still important to maintain a healthy lifestyle to support liver health. \"\n",
    "           \"Regular monitoring and periodic check-ups are recommended, especially if you have risk factors such as obesity, diabetes, or a history of liver disease.\"\n",
    "           )\n",
    "    st.write(advice)\n",
    "\n",
    "    # Calculate SHAP values and display force plot    \n",
    "    explainer = shap.TreeExplainer(model)    \n",
    "    shap_values = explainer.shap_values(pd.DataFrame([feature_values], columns=feature_names))\n",
    "\n",
    "    shap.force_plot(explainer.expected_value, shap_values[0], pd.DataFrame([feature_values], columns=feature_names), matplotlib=True)    \n",
    "    plt.savefig(\"shap_force_plot.png\", bbox_inches='tight', dpi=1200) \n",
    "\n",
    "    st.image(\"shap_force_plot.png\")"
   ]
  },
  {
   "cell_type": "code",
   "execution_count": null,
   "id": "b7d1c489-b461-442d-8899-319b7af63abd",
   "metadata": {},
   "outputs": [],
   "source": []
  }
 ],
 "metadata": {
  "kernelspec": {
   "display_name": "Python 3 (ipykernel)",
   "language": "python",
   "name": "python3"
  },
  "language_info": {
   "codemirror_mode": {
    "name": "ipython",
    "version": 3
   },
   "file_extension": ".py",
   "mimetype": "text/x-python",
   "name": "python",
   "nbconvert_exporter": "python",
   "pygments_lexer": "ipython3",
   "version": "3.11.7"
  }
 },
 "nbformat": 4,
 "nbformat_minor": 5
}
